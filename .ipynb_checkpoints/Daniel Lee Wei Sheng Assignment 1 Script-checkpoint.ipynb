{
 "cells": [
  {
   "cell_type": "markdown",
   "metadata": {},
   "source": [
    "## Importing Libraries"
   ]
  },
  {
   "cell_type": "code",
   "execution_count": 8,
   "metadata": {},
   "outputs": [
    {
     "name": "stdout",
     "output_type": "stream",
     "text": [
      "The nb_black extension is already loaded. To reload it, use:\n",
      "  %reload_ext nb_black\n"
     ]
    },
    {
     "data": {
      "application/javascript": [
       "\n",
       "            setTimeout(function() {\n",
       "                var nbb_cell_id = 8;\n",
       "                var nbb_formatted_code = \"import pandas as pd\\nimport numpy as np\\nimport re\\nimport string\\nimport dill\\nimport swifter\\n\\n%load_ext nb_black\";\n",
       "                var nbb_cells = Jupyter.notebook.get_cells();\n",
       "                for (var i = 0; i < nbb_cells.length; ++i) {\n",
       "                    if (nbb_cells[i].input_prompt_number == nbb_cell_id) {\n",
       "                        nbb_cells[i].set_text(nbb_formatted_code);\n",
       "                        break;\n",
       "                    }\n",
       "                }\n",
       "            }, 500);\n",
       "            "
      ],
      "text/plain": [
       "<IPython.core.display.Javascript object>"
      ]
     },
     "metadata": {},
     "output_type": "display_data"
    }
   ],
   "source": [
    "import pandas as pd\n",
    "import numpy as np\n",
    "import re\n",
    "import string\n",
    "import dill\n",
    "import swifter\n",
    "\n",
    "%load_ext nb_black"
   ]
  },
  {
   "cell_type": "markdown",
   "metadata": {},
   "source": [
    "## Importing Dataset"
   ]
  },
  {
   "cell_type": "code",
   "execution_count": 14,
   "metadata": {},
   "outputs": [
    {
     "data": {
      "application/javascript": [
       "\n",
       "            setTimeout(function() {\n",
       "                var nbb_cell_id = 14;\n",
       "                var nbb_formatted_code = \"# df = pd.read_csv(\\\"data.csv.gz\\\", compression=\\\"gzip\\\")\\ntest = pd.read_csv(\\\"incentivized_examples.csv\\\")\";\n",
       "                var nbb_cells = Jupyter.notebook.get_cells();\n",
       "                for (var i = 0; i < nbb_cells.length; ++i) {\n",
       "                    if (nbb_cells[i].input_prompt_number == nbb_cell_id) {\n",
       "                        nbb_cells[i].set_text(nbb_formatted_code);\n",
       "                        break;\n",
       "                    }\n",
       "                }\n",
       "            }, 500);\n",
       "            "
      ],
      "text/plain": [
       "<IPython.core.display.Javascript object>"
      ]
     },
     "metadata": {},
     "output_type": "display_data"
    }
   ],
   "source": [
    "# df = pd.read_csv(\"data.csv.gz\", compression=\"gzip\")\n",
    "test = pd.read_csv(\"incentivized_examples.csv\")"
   ]
  },
  {
   "cell_type": "code",
   "execution_count": 10,
   "metadata": {},
   "outputs": [
    {
     "data": {
      "application/javascript": [
       "\n",
       "            setTimeout(function() {\n",
       "                var nbb_cell_id = 10;\n",
       "                var nbb_formatted_code = \"data = df.copy()\";\n",
       "                var nbb_cells = Jupyter.notebook.get_cells();\n",
       "                for (var i = 0; i < nbb_cells.length; ++i) {\n",
       "                    if (nbb_cells[i].input_prompt_number == nbb_cell_id) {\n",
       "                        nbb_cells[i].set_text(nbb_formatted_code);\n",
       "                        break;\n",
       "                    }\n",
       "                }\n",
       "            }, 500);\n",
       "            "
      ],
      "text/plain": [
       "<IPython.core.display.Javascript object>"
      ]
     },
     "metadata": {},
     "output_type": "display_data"
    }
   ],
   "source": [
    "data = df.copy()"
   ]
  },
  {
   "cell_type": "markdown",
   "metadata": {},
   "source": [
    "## Importing NLTK library and defining Lemmatization function"
   ]
  },
  {
   "cell_type": "code",
   "execution_count": 11,
   "metadata": {},
   "outputs": [
    {
     "name": "stderr",
     "output_type": "stream",
     "text": [
      "[nltk_data] Downloading package averaged_perceptron_tagger to\n",
      "[nltk_data]     C:\\Users\\dlwss\\AppData\\Roaming\\nltk_data...\n",
      "[nltk_data]   Package averaged_perceptron_tagger is already up-to-\n",
      "[nltk_data]       date!\n"
     ]
    },
    {
     "data": {
      "application/javascript": [
       "\n",
       "            setTimeout(function() {\n",
       "                var nbb_cell_id = 11;\n",
       "                var nbb_formatted_code = \"import nltk\\n\\nnltk.download(\\\"averaged_perceptron_tagger\\\")\\nfrom nltk.stem import WordNetLemmatizer\\nfrom nltk.corpus import wordnet\\n\\nlemmatizer = WordNetLemmatizer()\\n\\n\\ndef lemmatize_sentence(sentence):\\n    nltk_tagged = nltk.word_tokenize(sentence)\\n    res_words = []\\n    for word in nltk_tagged:\\n        res_words.append(lemmatizer.lemmatize(word))\\n    return \\\" \\\".join(res_words)\";\n",
       "                var nbb_cells = Jupyter.notebook.get_cells();\n",
       "                for (var i = 0; i < nbb_cells.length; ++i) {\n",
       "                    if (nbb_cells[i].input_prompt_number == nbb_cell_id) {\n",
       "                        nbb_cells[i].set_text(nbb_formatted_code);\n",
       "                        break;\n",
       "                    }\n",
       "                }\n",
       "            }, 500);\n",
       "            "
      ],
      "text/plain": [
       "<IPython.core.display.Javascript object>"
      ]
     },
     "metadata": {},
     "output_type": "display_data"
    }
   ],
   "source": [
    "import nltk\n",
    "\n",
    "nltk.download(\"averaged_perceptron_tagger\")\n",
    "from nltk.stem import WordNetLemmatizer\n",
    "from nltk.corpus import wordnet\n",
    "\n",
    "lemmatizer = WordNetLemmatizer()\n",
    "\n",
    "\n",
    "def lemmatize_sentence(sentence):\n",
    "    nltk_tagged = nltk.word_tokenize(sentence)\n",
    "    res_words = []\n",
    "    for word in nltk_tagged:\n",
    "        res_words.append(lemmatizer.lemmatize(word))\n",
    "    return \" \".join(res_words)"
   ]
  },
  {
   "cell_type": "markdown",
   "metadata": {},
   "source": [
    "## Defining preprocessing function\n",
    "### Lowercasing the characters\n",
    "### Removing leading and trailing white spaces\n",
    "### Lemmatize the Review body"
   ]
  },
  {
   "cell_type": "code",
   "execution_count": 12,
   "metadata": {},
   "outputs": [
    {
     "data": {
      "application/javascript": [
       "\n",
       "            setTimeout(function() {\n",
       "                var nbb_cell_id = 12;\n",
       "                var nbb_formatted_code = \"def preprocess(var):\\n    var = var.dropna(subset=[\\\"review_body\\\"])\\n    var[\\\"review_body\\\"] = var[\\\"review_body\\\"].str.lower()\\n    var[\\\"review_body\\\"] = var[\\\"review_body\\\"].str.strip()\\n    var[\\\"review_body\\\"] = var[\\\"review_body\\\"].swifter.apply(\\n        lambda x: (lemmatize_sentence(x))\\n    )\\n    return var\";\n",
       "                var nbb_cells = Jupyter.notebook.get_cells();\n",
       "                for (var i = 0; i < nbb_cells.length; ++i) {\n",
       "                    if (nbb_cells[i].input_prompt_number == nbb_cell_id) {\n",
       "                        nbb_cells[i].set_text(nbb_formatted_code);\n",
       "                        break;\n",
       "                    }\n",
       "                }\n",
       "            }, 500);\n",
       "            "
      ],
      "text/plain": [
       "<IPython.core.display.Javascript object>"
      ]
     },
     "metadata": {},
     "output_type": "display_data"
    }
   ],
   "source": [
    "def preprocess(var):\n",
    "    var = var.dropna(subset=[\"review_body\"])\n",
    "    var[\"review_body\"] = var[\"review_body\"].str.lower()\n",
    "    var[\"review_body\"] = var[\"review_body\"].str.strip()\n",
    "    var[\"review_body\"] = var[\"review_body\"].swifter.apply(\n",
    "        lambda x: (lemmatize_sentence(x))\n",
    "    )\n",
    "    return var"
   ]
  },
  {
   "cell_type": "markdown",
   "metadata": {},
   "source": [
    "## Running preprocessing of main data set and incentivized examples set"
   ]
  },
  {
   "cell_type": "code",
   "execution_count": 15,
   "metadata": {},
   "outputs": [
    {
     "data": {
      "application/vnd.jupyter.widget-view+json": {
       "model_id": "2c15386b2dea4ac4af012944d6efa8b7",
       "version_major": 2,
       "version_minor": 0
      },
      "text/plain": [
       "HBox(children=(IntProgress(value=0, description='Pandas Apply', max=1022, style=ProgressStyle(description_widt…"
      ]
     },
     "metadata": {},
     "output_type": "display_data"
    },
    {
     "name": "stdout",
     "output_type": "stream",
     "text": [
      "\n"
     ]
    },
    {
     "data": {
      "application/javascript": [
       "\n",
       "            setTimeout(function() {\n",
       "                var nbb_cell_id = 15;\n",
       "                var nbb_formatted_code = \"# data = preprocess(data)\\ntest = preprocess(test)\";\n",
       "                var nbb_cells = Jupyter.notebook.get_cells();\n",
       "                for (var i = 0; i < nbb_cells.length; ++i) {\n",
       "                    if (nbb_cells[i].input_prompt_number == nbb_cell_id) {\n",
       "                        nbb_cells[i].set_text(nbb_formatted_code);\n",
       "                        break;\n",
       "                    }\n",
       "                }\n",
       "            }, 500);\n",
       "            "
      ],
      "text/plain": [
       "<IPython.core.display.Javascript object>"
      ]
     },
     "metadata": {},
     "output_type": "display_data"
    }
   ],
   "source": [
    "# data = preprocess(data)\n",
    "test = preprocess(test)"
   ]
  },
  {
   "cell_type": "code",
   "execution_count": 113,
   "metadata": {},
   "outputs": [
    {
     "data": {
      "application/javascript": [
       "\n",
       "            setTimeout(function() {\n",
       "                var nbb_cell_id = 29;\n",
       "                var nbb_formatted_code = \"incent_test = test[test[\\\"review_body\\\"].str.contains(regex_list)]\\nincent_test_fail = test[~test[\\\"review_body\\\"].str.contains(regex_list)]\\n(len(incent_test) / len(test)) * 100\";\n",
       "                var nbb_cells = Jupyter.notebook.get_cells();\n",
       "                for (var i = 0; i < nbb_cells.length; ++i) {\n",
       "                    if (nbb_cells[i].input_prompt_number == nbb_cell_id) {\n",
       "                        nbb_cells[i].set_text(nbb_formatted_code);\n",
       "                        break;\n",
       "                    }\n",
       "                }\n",
       "            }, 500);\n",
       "            "
      ],
      "text/plain": [
       "<IPython.core.display.Javascript object>"
      ]
     },
     "metadata": {},
     "output_type": "display_data"
    }
   ],
   "source": [
    "test.to_csv(\"incentivized_lemma.csv\")"
   ]
  },
  {
   "cell_type": "markdown",
   "metadata": {},
   "source": [
    "## List of combined Regular Expressions"
   ]
  },
  {
   "cell_type": "code",
   "execution_count": 59,
   "metadata": {},
   "outputs": [
    {
     "data": {
      "application/javascript": [
       "\n",
       "            setTimeout(function() {\n",
       "                var nbb_cell_id = 59;\n",
       "                var nbb_formatted_code = \"regex_list = \\\"|\\\".join(\\n    [\\n        r\\\"(\\\\btest\\\\b|\\\\breceiv(e|ed|es)\\\\b|suppli)[^\\\\.;!]{0,90}(evaluat(e|ion)|review|sample|(?<![-])\\\\bfree\\\\b(?![-])|\\\\bno (cost|charge)\\\\b)\\\",\\n        r\\\"\\\\Awow !\\\",\\n        r\\\"^as usual \\\\bi\\\\b receive[^\\\\.]*?(?<![-])\\\\bfree\\\\b(?![-])\\\",\\n        r\\\"exchange[^\\\\.!]*?(review|opinion|assessment)\\\",\\n        r\\\"(honest|unbias|asked(?!\\\\b his\\\\b|\\\\b her\\\\b|\\\\b him\\\\b))[^\\\\.!]{0,40}(opinion|review|(evaluat(e|ion)))\\\",\\n        r\\\"(honest|unbias)[^\\\\.!]{0,10}results\\\",\\n        r\\\"(provid(e|ed)|\\\\bsen(d|t)\\\\b|offered|\\\\breceiv(e|ed|es)\\\\b)[^\\\\.!?]{0,50}(evaluat(e|ion)|review|sample|\\\\btest(|ing)\\\\b)\\\",\\n        r\\\"unu \\\\bsen(d|t)\\\\b me .*?\\\",\\n        r\\\"reach[^\\\\.!]{0,40}offer[^\\\\.!]{0,40}(\\\\btry\\\\b|\\\\btest\\\\b|trial|sample|review|evaluat(e|ion))\\\",\\n        r\\\"(sample)[^\\\\.!]{0,40}(\\\\btest\\\\b|\\\\breceive(|d|s)\\\\b|provide|give|offer|\\\\bsen(d|t)\\\\b|supplied)[^\\\\.!]{0,40}(review)\\\",\\n        r\\\"(review)[^\\\\.!]{0,40}(\\\\btest\\\\b|\\\\breceive(|d|s)\\\\b|provide|give|offer|\\\\bsen(d|t)\\\\b|supplied)[^\\\\.!]{0,40}(sample)\\\",\\n        r\\\"(disclaimer|disclosure)[^\\\\.!]*?(review|sample|(?<![-])\\\\bfree\\\\b(?![-])|\\\\btest(|ing)\\\\b|program)\\\",\\n        r\\\"((?<![-])\\\\bfree\\\\b(?![-])|offe(r|red)|\\\\bno (cost|charge|obligation)\\\\b)[^\\\\.!\\\\d]{0,20}(review|sample|\\\\btest(|ing)\\\\b|trial|\\\\bpromo(|tion)\\\\b)\\\",\\n        r\\\"(review|sample|\\\\btest\\\\b|trial|\\\\bpromo(|tion)\\\\b)[^\\\\.!]{0,20}((?<![-])\\\\bfree\\\\b(?![-])|offe(r|red)|\\\\bno (cost|charge|obligation)\\\\b)\\\",\\n        r\\\"(?<![-])\\\\bfree\\\\b(?![-])[^\\\\.!]{0,40}thank[^\\\\.!]{0,20}unu\\\",\\n        r\\\"(review(ed|)|(\\\\bget chance try\\\\b))[^\\\\.!]{0,30}(sample)\\\",\\n        r\\\"sample[^\\\\.!]{0,20}(provid(ed|e)|review)\\\",\\n        r\\\"thank[^\\\\.!]*?(\\\\breview\\\\b|provid(ed|e|ing)|\\\\bsen(d|t|ding)\\\\b)[^\\\\.!]*?(product|sample|(?<![-])\\\\bfree\\\\b(?![-])|\\\\btes\\\\bt|program|\\\\bunit\\\\b|case|pack)\\\",\\n        r\\\"(g(e|o)t|give|\\\\btry\\\\b)[^\\\\.!]{0,40}(sample|stipulation)\\\",\\n        r\\\"(g(e|o)t|give|\\\\btry\\\\b|provide)[^\\\\.!]{0,20}(\\\\bitem\\\\b|device|product|chance)[^\\\\.!]{0,20}(\\\\breview\\\\b|\\\\btest(|ing)\\\\b|from|\\\\btry\\\\b|(?<![-])\\\\bfree\\\\b(?![-]))\\\",\\n        r\\\"(g(e|o)t|give|\\\\btry\\\\b|provide)[^\\\\.!]{0,20}\\\\bfree (from|to try)\\\\b\\\",\\n        r\\\"(professional reviewer|utry|product tester|amazon vine)\\\",\\n        r\\\"\\\\bsample from\\\\b\\\",\\n        r\\\"compl(i|e)mentary[^\\\\.!]{0,20}(\\\\bitem\\\\b|product|review|sample|(?<![-])\\\\bfree\\\\b(?![-])|\\\\btest\\\\b|program|\\\\bunit\\\\b)\\\",\\n        r\\\"\\\\breceive(|d|s)\\\\b[^\\\\.!]{0,40}(\\\\bfrom\\\\b|through|marketing)[^\\\\.!]{0,30}(program|company|campaign|maxboost)\\\",\\n    ]\\n)\";\n",
       "                var nbb_cells = Jupyter.notebook.get_cells();\n",
       "                for (var i = 0; i < nbb_cells.length; ++i) {\n",
       "                    if (nbb_cells[i].input_prompt_number == nbb_cell_id) {\n",
       "                        nbb_cells[i].set_text(nbb_formatted_code);\n",
       "                        break;\n",
       "                    }\n",
       "                }\n",
       "            }, 500);\n",
       "            "
      ],
      "text/plain": [
       "<IPython.core.display.Javascript object>"
      ]
     },
     "metadata": {},
     "output_type": "display_data"
    }
   ],
   "source": [
    "regex_list = \"|\".join(\n",
    "    [\n",
    "        r\"(\\btest\\b|\\breceiv(e|ed|es)\\b|suppli)[^\\.;!]{0,90}(evaluat(e|ion)|review|sample|(?<![-])\\bfree\\b(?![-])|\\bno (cost|charge)\\b)\",\n",
    "        r\"\\Awow !\",\n",
    "        r\"^as usual \\bi\\b receive[^\\.]*?(?<![-])\\bfree\\b(?![-])\",\n",
    "        r\"exchange[^\\.!]*?(review|opinion|assessment)\",\n",
    "        r\"(honest|unbias|asked(?!\\b his\\b|\\b her\\b|\\b him\\b))[^\\.!]{0,40}(opinion|review|(evaluat(e|ion)))\",\n",
    "        r\"(honest|unbias)[^\\.!]{0,10}results\",\n",
    "        r\"(provid(e|ed)|\\bsen(d|t)\\b|offered|\\breceiv(e|ed|es)\\b)[^\\.!?]{0,50}(evaluat(e|ion)|review|sample|\\btest(|ing)\\b)\",\n",
    "        r\"unu \\bsen(d|t)\\b me .*?\",\n",
    "        r\"reach[^\\.!]{0,40}offer[^\\.!]{0,40}(\\btry\\b|\\btest\\b|trial|sample|review|evaluat(e|ion))\",\n",
    "        r\"(sample)[^\\.!]{0,40}(\\btest\\b|\\breceive(|d|s)\\b|provide|give|offer|\\bsen(d|t)\\b|supplied)[^\\.!]{0,40}(review)\",\n",
    "        r\"(review)[^\\.!]{0,40}(\\btest\\b|\\breceive(|d|s)\\b|provide|give|offer|\\bsen(d|t)\\b|supplied)[^\\.!]{0,40}(sample)\",\n",
    "        r\"(disclaimer|disclosure)[^\\.!]*?(review|sample|(?<![-])\\bfree\\b(?![-])|\\btest(|ing)\\b|program)\",\n",
    "        r\"((?<![-])\\bfree\\b(?![-])|offe(r|red)|\\bno (cost|charge|obligation)\\b)[^\\.!\\d]{0,20}(review|sample|\\btest(|ing)\\b|trial|\\bpromo(|tion)\\b)\",\n",
    "        r\"(review|sample|\\btest\\b|trial|\\bpromo(|tion)\\b)[^\\.!]{0,20}((?<![-])\\bfree\\b(?![-])|offe(r|red)|\\bno (cost|charge|obligation)\\b)\",\n",
    "        r\"(?<![-])\\bfree\\b(?![-])[^\\.!]{0,40}thank[^\\.!]{0,20}unu\",\n",
    "        r\"(review(ed|)|(\\bget chance try\\b))[^\\.!]{0,30}(sample)\",\n",
    "        r\"sample[^\\.!]{0,20}(provid(ed|e)|review)\",\n",
    "        r\"thank[^\\.!]*?(\\breview\\b|provid(ed|e|ing)|\\bsen(d|t|ding)\\b)[^\\.!]*?(product|sample|(?<![-])\\bfree\\b(?![-])|\\btes\\bt|program|\\bunit\\b|case|pack)\",\n",
    "        r\"(g(e|o)t|give|\\btry\\b)[^\\.!]{0,40}(sample|stipulation)\",\n",
    "        r\"(g(e|o)t|give|\\btry\\b|provide)[^\\.!]{0,20}(\\bitem\\b|device|product|chance)[^\\.!]{0,20}(\\breview\\b|\\btest(|ing)\\b|from|\\btry\\b|(?<![-])\\bfree\\b(?![-]))\",\n",
    "        r\"(g(e|o)t|give|\\btry\\b|provide)[^\\.!]{0,20}\\bfree (from|to try)\\b\",\n",
    "        r\"(professional reviewer|utry|product tester|amazon vine)\",\n",
    "        r\"\\bsample from\\b\",\n",
    "        r\"compl(i|e)mentary[^\\.!]{0,20}(\\bitem\\b|product|review|sample|(?<![-])\\bfree\\b(?![-])|\\btest\\b|program|\\bunit\\b)\",\n",
    "        r\"\\breceive(|d|s)\\b[^\\.!]{0,40}(\\bfrom\\b|through|marketing)[^\\.!]{0,30}(program|company|campaign|maxboost)\",\n",
    "    ]\n",
    ")"
   ]
  },
  {
   "cell_type": "code",
   "execution_count": 60,
   "metadata": {
    "scrolled": true
   },
   "outputs": [
    {
     "name": "stdout",
     "output_type": "stream",
     "text": [
      "(\\btest\\b|\\breceiv(e|ed|es)\\b|suppli)[^\\.;!]{0,90}(evaluat(e|ion)|review|sample|(?<![-])\\bfree\\b(?![-])|\\bno (cost|charge)\\b)|\\Awow !|^as usual \\bi\\b receive[^\\.]*?(?<![-])\\bfree\\b(?![-])|exchange[^\\.!]*?(review|opinion|assessment)|(honest|unbias|asked(?!\\b his\\b|\\b her\\b|\\b him\\b))[^\\.!]{0,40}(opinion|review|(evaluat(e|ion)))|(honest|unbias)[^\\.!]{0,10}results|(provid(e|ed)|\\bsen(d|t)\\b|offered|\\breceiv(e|ed|es)\\b)[^\\.!?]{0,50}(evaluat(e|ion)|review|sample|\\btest(|ing)\\b)|unu \\bsen(d|t)\\b me .*?|reach[^\\.!]{0,40}offer[^\\.!]{0,40}(\\btry\\b|\\btest\\b|trial|sample|review|evaluat(e|ion))|(sample)[^\\.!]{0,40}(\\btest\\b|\\breceive(|d|s)\\b|provide|give|offer|\\bsen(d|t)\\b|supplied)[^\\.!]{0,40}(review)|(review)[^\\.!]{0,40}(\\btest\\b|\\breceive(|d|s)\\b|provide|give|offer|\\bsen(d|t)\\b|supplied)[^\\.!]{0,40}(sample)|(disclaimer|disclosure)[^\\.!]*?(review|sample|(?<![-])\\bfree\\b(?![-])|\\btest(|ing)\\b|program)|((?<![-])\\bfree\\b(?![-])|offe(r|red)|\\bno (cost|charge|obligation)\\b)[^\\.!\\d]{0,20}(review|sample|\\btest(|ing)\\b|trial|\\bpromo(|tion)\\b)|(review|sample|\\btest\\b|trial|\\bpromo(|tion)\\b)[^\\.!]{0,20}((?<![-])\\bfree\\b(?![-])|offe(r|red)|\\bno (cost|charge|obligation)\\b)|(?<![-])\\bfree\\b(?![-])[^\\.!]{0,40}thank[^\\.!]{0,20}unu|(review(ed|)|(\\bget chance try\\b))[^\\.!]{0,30}(sample)|sample[^\\.!]{0,20}(provid(ed|e)|review)|thank[^\\.!]*?(\\breview\\b|provid(ed|e|ing)|\\bsen(d|t|ding)\\b)[^\\.!]*?(product|sample|(?<![-])\\bfree\\b(?![-])|\\btes\\bt|program|\\bunit\\b|case|pack)|(g(e|o)t|give|\\btry\\b)[^\\.!]{0,40}(sample|stipulation)|(g(e|o)t|give|\\btry\\b|provide)[^\\.!]{0,20}(\\bitem\\b|device|product|chance)[^\\.!]{0,20}(\\breview\\b|\\btest(|ing)\\b|from|\\btry\\b|(?<![-])\\bfree\\b(?![-]))|(g(e|o)t|give|\\btry\\b|provide)[^\\.!]{0,20}\\bfree (from|to try)\\b|(professional reviewer|utry|product tester|amazon vine)|\\bsample from\\b|compl(i|e)mentary[^\\.!]{0,20}(\\bitem\\b|product|review|sample|(?<![-])\\bfree\\b(?![-])|\\btest\\b|program|\\bunit\\b)|\\breceive(|d|s)\\b[^\\.!]{0,40}(\\bfrom\\b|through|marketing)[^\\.!]{0,30}(program|company|campaign|maxboost)\n"
     ]
    },
    {
     "data": {
      "application/javascript": [
       "\n",
       "            setTimeout(function() {\n",
       "                var nbb_cell_id = 60;\n",
       "                var nbb_formatted_code = \"print(regex_list)\";\n",
       "                var nbb_cells = Jupyter.notebook.get_cells();\n",
       "                for (var i = 0; i < nbb_cells.length; ++i) {\n",
       "                    if (nbb_cells[i].input_prompt_number == nbb_cell_id) {\n",
       "                        nbb_cells[i].set_text(nbb_formatted_code);\n",
       "                        break;\n",
       "                    }\n",
       "                }\n",
       "            }, 500);\n",
       "            "
      ],
      "text/plain": [
       "<IPython.core.display.Javascript object>"
      ]
     },
     "metadata": {},
     "output_type": "display_data"
    }
   ],
   "source": [
    "print(regex_list)"
   ]
  },
  {
   "cell_type": "markdown",
   "metadata": {},
   "source": [
    "## Percentage of Incentivized Reviews detected in data set"
   ]
  },
  {
   "cell_type": "code",
   "execution_count": 62,
   "metadata": {},
   "outputs": [
    {
     "data": {
      "application/vnd.jupyter.widget-view+json": {
       "model_id": "55be8638038c4ed9be7456aad878c66e",
       "version_major": 2,
       "version_minor": 0
      },
      "text/plain": [
       "HBox(children=(IntProgress(value=0, description='Pandas Apply', max=51067, style=ProgressStyle(description_wid…"
      ]
     },
     "metadata": {},
     "output_type": "display_data"
    },
    {
     "name": "stdout",
     "output_type": "stream",
     "text": [
      "\n"
     ]
    },
    {
     "name": "stderr",
     "output_type": "stream",
     "text": [
      "C:\\Users\\dlwss\\Anaconda3\\lib\\site-packages\\ipykernel_launcher.py:3: SettingWithCopyWarning: \n",
      "A value is trying to be set on a copy of a slice from a DataFrame.\n",
      "Try using .loc[row_indexer,col_indexer] = value instead\n",
      "\n",
      "See the caveats in the documentation: http://pandas.pydata.org/pandas-docs/stable/user_guide/indexing.html#returning-a-view-versus-a-copy\n",
      "  This is separate from the ipykernel package so we can avoid doing imports until\n"
     ]
    },
    {
     "name": "stdout",
     "output_type": "stream",
     "text": [
      "Percentage of Incentivized Reviews in data set 2.553392130970161 %\n"
     ]
    },
    {
     "data": {
      "application/javascript": [
       "\n",
       "            setTimeout(function() {\n",
       "                var nbb_cell_id = 62;\n",
       "                var nbb_formatted_code = \"incent = data[data[\\\"review_body\\\"].str.contains(regex_list)]\\nincent[\\\"discount_text\\\"] = incent[\\\"review_body\\\"].swifter.apply(\\n    lambda x: re.search(regex_list, x).group(0)\\n)\\nprint(\\n    \\\"Percentage of Incentivized Reviews in data set\\\",\\n    (len(incent) / len(data)) * 100,\\n    \\\"%\\\",\\n)\";\n",
       "                var nbb_cells = Jupyter.notebook.get_cells();\n",
       "                for (var i = 0; i < nbb_cells.length; ++i) {\n",
       "                    if (nbb_cells[i].input_prompt_number == nbb_cell_id) {\n",
       "                        nbb_cells[i].set_text(nbb_formatted_code);\n",
       "                        break;\n",
       "                    }\n",
       "                }\n",
       "            }, 500);\n",
       "            "
      ],
      "text/plain": [
       "<IPython.core.display.Javascript object>"
      ]
     },
     "metadata": {},
     "output_type": "display_data"
    }
   ],
   "source": [
    "incent = data[data[\"review_body\"].str.contains(regex_list)]\n",
    "incent[\"discount_text\"] = incent[\"review_body\"].swifter.apply(\n",
    "    lambda x: re.search(regex_list, x).group(0)\n",
    ")\n",
    "print(\n",
    "    \"Percentage of Incentivized Reviews in data set\",\n",
    "    (len(incent) / len(data)) * 100,\n",
    "    \"%\",\n",
    ")"
   ]
  },
  {
   "cell_type": "markdown",
   "metadata": {},
   "source": [
    "## Percentage of Incentivized Reviews detected from incentivized_examples.csv"
   ]
  },
  {
   "cell_type": "code",
   "execution_count": 63,
   "metadata": {},
   "outputs": [
    {
     "name": "stdout",
     "output_type": "stream",
     "text": [
      "Percentage of Incentivized Reviews detected from incentivized_examples.csv: 98.53228962818004 %\n"
     ]
    },
    {
     "data": {
      "application/javascript": [
       "\n",
       "            setTimeout(function() {\n",
       "                var nbb_cell_id = 63;\n",
       "                var nbb_formatted_code = \"incent_test = test[test[\\\"review_body\\\"].str.contains(regex_list)]\\nincent_test_fail = test[~test[\\\"review_body\\\"].str.contains(regex_list)]\\nprint(\\n    \\\"Percentage of Incentivized Reviews detected from incentivized_examples.csv:\\\",\\n    (len(incent_test) / len(test)) * 100,\\n    \\\"%\\\",\\n)\";\n",
       "                var nbb_cells = Jupyter.notebook.get_cells();\n",
       "                for (var i = 0; i < nbb_cells.length; ++i) {\n",
       "                    if (nbb_cells[i].input_prompt_number == nbb_cell_id) {\n",
       "                        nbb_cells[i].set_text(nbb_formatted_code);\n",
       "                        break;\n",
       "                    }\n",
       "                }\n",
       "            }, 500);\n",
       "            "
      ],
      "text/plain": [
       "<IPython.core.display.Javascript object>"
      ]
     },
     "metadata": {},
     "output_type": "display_data"
    }
   ],
   "source": [
    "incent_test = test[test[\"review_body\"].str.contains(regex_list)]\n",
    "incent_test_fail = test[~test[\"review_body\"].str.contains(regex_list)]\n",
    "print(\n",
    "    \"Percentage of Incentivized Reviews detected from incentivized_examples.csv:\",\n",
    "    (len(incent_test) / len(test)) * 100,\n",
    "    \"%\",\n",
    ")"
   ]
  },
  {
   "cell_type": "markdown",
   "metadata": {},
   "source": [
    "## Saving Results File"
   ]
  },
  {
   "cell_type": "code",
   "execution_count": 64,
   "metadata": {},
   "outputs": [
    {
     "data": {
      "application/javascript": [
       "\n",
       "            setTimeout(function() {\n",
       "                var nbb_cell_id = 64;\n",
       "                var nbb_formatted_code = \"incent_test_fail.to_csv(\\\"Incentivised Reviews Missed.csv\\\", index=False)\\nincent.to_csv(\\\"Incentivised Reviews.csv\\\", index=False)\";\n",
       "                var nbb_cells = Jupyter.notebook.get_cells();\n",
       "                for (var i = 0; i < nbb_cells.length; ++i) {\n",
       "                    if (nbb_cells[i].input_prompt_number == nbb_cell_id) {\n",
       "                        nbb_cells[i].set_text(nbb_formatted_code);\n",
       "                        break;\n",
       "                    }\n",
       "                }\n",
       "            }, 500);\n",
       "            "
      ],
      "text/plain": [
       "<IPython.core.display.Javascript object>"
      ]
     },
     "metadata": {},
     "output_type": "display_data"
    }
   ],
   "source": [
    "incent_test_fail.to_csv(\"Incentivised Reviews Missed.csv\", index=False)\n",
    "incent.to_csv(\"Incentivised Reviews.csv\", index=False)"
   ]
  },
  {
   "cell_type": "code",
   "execution_count": 31,
   "metadata": {},
   "outputs": [
    {
     "data": {
      "application/javascript": [
       "\n",
       "            setTimeout(function() {\n",
       "                var nbb_cell_id = 31;\n",
       "                var nbb_formatted_code = \"dill.dump_session(\\\"dump1.db\\\")\";\n",
       "                var nbb_cells = Jupyter.notebook.get_cells();\n",
       "                for (var i = 0; i < nbb_cells.length; ++i) {\n",
       "                    if (nbb_cells[i].input_prompt_number == nbb_cell_id) {\n",
       "                        nbb_cells[i].set_text(nbb_formatted_code);\n",
       "                        break;\n",
       "                    }\n",
       "                }\n",
       "            }, 500);\n",
       "            "
      ],
      "text/plain": [
       "<IPython.core.display.Javascript object>"
      ]
     },
     "metadata": {},
     "output_type": "display_data"
    }
   ],
   "source": [
    "dill.dump_session(\"dump1.db\")"
   ]
  }
 ],
 "metadata": {
  "kernelspec": {
   "display_name": "Python 3",
   "language": "python",
   "name": "python3"
  },
  "language_info": {
   "codemirror_mode": {
    "name": "ipython",
    "version": 3
   },
   "file_extension": ".py",
   "mimetype": "text/x-python",
   "name": "python",
   "nbconvert_exporter": "python",
   "pygments_lexer": "ipython3",
   "version": "3.7.4"
  }
 },
 "nbformat": 4,
 "nbformat_minor": 2
}
